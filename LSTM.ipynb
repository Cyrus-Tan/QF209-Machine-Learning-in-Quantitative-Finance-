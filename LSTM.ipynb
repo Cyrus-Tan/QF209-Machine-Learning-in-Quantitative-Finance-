{
  "cells": [
    {
      "cell_type": "code",
      "execution_count": null,
      "metadata": {
        "id": "QMic0ynUu0EK"
      },
      "outputs": [],
      "source": [
        "import numpy as np\n",
        "import yfinance as yf\n",
        "import pandas as pd\n",
        "import matplotlib.pyplot as plt\n",
        "from sklearn.model_selection import train_test_split\n",
        "from sklearn.preprocessing import MinMaxScaler\n",
        "from sklearn.metrics import mean_squared_error\n",
        "\n",
        "# On avge, 252 trading days a year\n",
        "NUM_TRADING_DAYS = 252\n",
        "\n",
        "# Generate random w (diff. portfolios)\n",
        "NUM_PORTFOLIOS = 10000\n",
        "\n",
        "# Our portfolio stocks\n",
        "stocks = ['AAPL', 'NVDA', 'MAR', 'LMT', 'BA']\n",
        "\n",
        "# Historical data - define START, END dates\n",
        "start_date = '2010-01-01'\n",
        "end_date = '2023-10-01'"
      ]
    },
    {
      "cell_type": "code",
      "execution_count": null,
      "metadata": {
        "colab": {
          "base_uri": "https://localhost:8080/",
          "height": 666
        },
        "id": "N5a7IX_Lu0EM",
        "outputId": "d5d98605-541f-4d1b-efaa-3e305f769061"
      },
      "outputs": [],
      "source": [
        "merged = pd.read_excel(\"merged.xlsx\", index_col=0)"
      ]
    },
    {
      "cell_type": "code",
      "execution_count": null,
      "metadata": {
        "colab": {
          "base_uri": "https://localhost:8080/"
        },
        "id": "ETi2iBJPu0EM",
        "outputId": "d3058dad-c075-46cc-b863-5d4e09041204"
      },
      "outputs": [],
      "source": [
        "import numpy as np\n",
        "import pandas as pd\n",
        "\n",
        "stock_dict = {}\n",
        "for stock in stocks:\n",
        "    new_df = merged.filter(regex=f'{stock}_')\n",
        "    stock_dict[f\"{stock}\"] = new_df"
      ]
    },
    {
      "cell_type": "code",
      "execution_count": null,
      "metadata": {
        "colab": {
          "base_uri": "https://localhost:8080/",
          "height": 666
        },
        "id": "RIkGn15Xu0EN",
        "outputId": "259e7ec9-9039-473e-886b-294faaa0aced"
      },
      "outputs": [],
      "source": [
        "AAPL_test= stock_dict[\"AAPL\"]"
      ]
    },
    {
      "cell_type": "code",
      "execution_count": null,
      "metadata": {
        "colab": {
          "base_uri": "https://localhost:8080/"
        },
        "id": "Zbnfzib2u0EN",
        "outputId": "ec2444a0-493a-4f4f-83b2-effcf2eb2d3a"
      },
      "outputs": [],
      "source": [
        "training_list = [\"AAPL_Daily_Return\", \"AAPL_Adj Close\", \"AAPL_Volume\", \"AAPL_Sentiment_score\"]\n",
        "AAPL_df = AAPL_test.loc[:, training_list]\n",
        "AAPL_test = AAPL_test.loc[:, training_list].values\n",
        "# AAPL_test = AAPL_test.loc[:, training_list]\n",
        "print(AAPL_test)\n",
        "AAPL_df\n"
      ]
    },
    {
      "cell_type": "code",
      "execution_count": null,
      "metadata": {
        "colab": {
          "base_uri": "https://localhost:8080/"
        },
        "id": "cjmWa0yCu0EN",
        "outputId": "7b60cf8a-dba2-4705-b6e7-85cf3685844d"
      },
      "outputs": [],
      "source": [
        "# sc_dailyReturn = MinMaxScaler(feature_range=(0,1))\n",
        "# sc_adjClose = MinMaxScaler(feature_range=(0,1))\n",
        "# sc_Volume = MinMaxScaler(feature_range=(0,1))\n",
        "# sc_sentimentScore = MinMaxScaler(feature_range=(0,1))\n",
        "# dailyReturn = sc_dailyReturn.fit_transform(AAPL_df[\"AAPL_Daily_Return\"])\n",
        "# adjClose = sc_adjClose.fit_transform(AAPL_df[\"AAPL_Adj Close\"])\n",
        "# volume = sc_Volume.fit_transform(AAPL_df[\"AAPL_Volume\"])\n",
        "# sentimentScore = sc_sentimentScore.fit_transform(AAPL_df[\"AAPL_Sentiment_score\"])\n",
        "# print(dailyReturn)\n",
        "\n",
        "sc = MinMaxScaler(feature_range=(0,1))\n",
        "AAPL_test = sc.fit_transform(AAPL_test)\n",
        "\n",
        "# print(AAPL_test)\n",
        "\n",
        "X = []\n",
        "y = []\n",
        "\n",
        "# print(len(AAPL_test.index)) #3474\n",
        "length = len(AAPL_test)\n",
        "# print(length)\n",
        "sequence_length = 60\n",
        "\n",
        "for i in range(length - sequence_length):\n",
        "    X.append(AAPL_test[i:i + sequence_length])\n",
        "    y.append(AAPL_test[i + sequence_length])\n",
        "\n",
        "X, y = np.array(X), np.array(y)"
      ]
    },
    {
      "cell_type": "code",
      "execution_count": null,
      "metadata": {
        "id": "lSPHCGc6u0EO"
      },
      "outputs": [],
      "source": [
        "train_size = int(0.8 * len(X))\n",
        "X_train, X_test = X[:train_size], X[train_size:]\n",
        "y_train, y_test = y[:train_size], y[train_size:]\n",
        "\n",
        "# creation of validation set from train data\n",
        "# X_val, X_train, y_val, y_train = train_test_split(X_train, y_train, test_size=0.8, random_state=42)\n",
        "\n",
        "# X_train = np.reshape(X_train, (X_train.shape[0], X_train.shape[1], 4))\n",
        "# X_test = np.reshape(X_test, (X_test.shape[0], X_test.shape[1], 4))\n",
        "\n",
        "print(y_test.shape)\n",
        "print(X_test.shape)\n",
        "\n",
        "# y_test\n"
      ]
    },
    {
      "cell_type": "code",
      "execution_count": null,
      "metadata": {
        "id": "U8DWLiQZu0EO"
      },
      "outputs": [],
      "source": [
        "from tensorflow import keras\n",
        "from keras.models import Sequential\n",
        "from keras.layers import LSTM\n",
        "from keras.layers import Dense\n",
        "from sklearn.model_selection import GridSearchCV\n",
        "from tensorflow.keras import regularizers"
      ]
    },
    {
      "cell_type": "code",
      "execution_count": null,
      "metadata": {
        "colab": {
          "base_uri": "https://localhost:8080/",
          "height": 1000
        },
        "id": "2Dk8wf-5u0EO",
        "outputId": "b1032caf-4e0c-4956-ef53-31ed20e5f498"
      },
      "outputs": [],
      "source": [
        "model = Sequential()\n",
        "\n",
        "model.add(LSTM(128, input_shape=(sequence_length, 4)))\n",
        "# model.add(LSTM(64, return_sequences=False))\n",
        "# model.add(Dense(25))\n",
        "\n",
        "# Dense(4) because we are predicting 4 features\n",
        "model.add(Dense(4))\n",
        "\n",
        "# model.add(LSTM(128, return_sequences=True, activation='relu', kernel_regularizer=regularizers.l2(0.001), input_shape= (sequence_length, 4)))\n",
        "# model.add(LSTM(64, return_sequences=False, kernel_regularizer=regularizers.l2(0.001)))\n",
        "# model.add(Dense(25, kernel_regularizer=regularizers.l2(0.001)))\n",
        "# model.add(Dense(1, kernel_regularizer=regularizers.l2(0.001)))\n",
        "\n",
        "model.compile(optimizer='adam', loss='mean_squared_error')\n",
        "# history = model.fit(X_train,y_train, validation_data=(X_val, y_val), epochs=50, batch_size=100)\n",
        "history = model.fit(X_train,y_train, epochs=50, batch_size=100)\n",
        "\n",
        "training_loss = history.history['loss']\n",
        "# validation_loss = history.history['val_loss']\n",
        "epochs = range(1, len(training_loss) + 1)\n",
        "\n",
        "# Plot the loss function\n",
        "plt.figure(figsize=(10, 5))\n",
        "plt.plot(epochs, training_loss, label='Training Loss')\n",
        "# plt.plot(epochs, validation_loss, label='Validation Loss')\n",
        "plt.title('Loss Function for LSTM Model')\n",
        "plt.xlabel('Epochs')\n",
        "plt.ylabel('Loss')\n",
        "plt.legend()\n",
        "plt.grid(True)\n",
        "plt.show()\n",
        "\n"
      ]
    },
    {
      "cell_type": "code",
      "execution_count": null,
      "metadata": {
        "colab": {
          "base_uri": "https://localhost:8080/"
        },
        "id": "QWAwn8vOu0EP",
        "outputId": "60b28099-5bc4-4b24-9f21-aabf157082c9"
      },
      "outputs": [],
      "source": [
        "y_pred = model.predict(X_test)\n",
        "\n",
        "# only interested in daily returns\n",
        "y_test_slice = y_test[:,0] #MinMaxScaled\n",
        "y_pred_slice = y_pred[:,0] #MinMaxScaled\n",
        "\n",
        "# AAPL_test = sc.inverse_transform(AAPL_test)\n",
        "y_pred = sc.inverse_transform(y_pred)\n",
        "\n",
        "print(np.sqrt(mean_squared_error(y_test_slice, y_pred_slice)))"
      ]
    },
    {
      "cell_type": "code",
      "execution_count": null,
      "metadata": {
        "colab": {
          "base_uri": "https://localhost:8080/",
          "height": 472
        },
        "id": "KBCRVjNhu0EP",
        "outputId": "b3bbb48a-d4cb-4e7d-bcae-d8eafbca8864"
      },
      "outputs": [],
      "source": [
        "import matplotlib.pyplot as plt\n",
        "\n",
        "# Assuming you have y_test_original_scale and y_pred_original_scale\n",
        "\n",
        "# Create a range of indices for plotting\n",
        "indices = range(len(y_test_slice))\n",
        "\n",
        "# Plot the actual stock prices (in blue)\n",
        "plt.plot(indices, y_test_slice, label=\"Actual Stock Returns\", color='blue')\n",
        "\n",
        "# Plot the predicted stock prices (in red)\n",
        "plt.plot(indices, y_pred_slice, label=\"Predicted Stock Returns\", color='red')\n",
        "\n",
        "# Add labels and legend\n",
        "plt.xlabel(\"Date\")\n",
        "plt.ylabel(\"Stock Returns\")\n",
        "plt.title(\"Actual vs. Predicted Stock Returns\")\n",
        "plt.legend()\n",
        "\n",
        "# Show the plot\n",
        "plt.show()"
      ]
    },
    {
      "cell_type": "code",
      "execution_count": null,
      "metadata": {
        "colab": {
          "base_uri": "https://localhost:8080/"
        },
        "id": "Nh_yrvzpy5fh",
        "outputId": "65ecce9c-7fc0-40d3-9e93-74f6bcfe4951"
      },
      "outputs": [],
      "source": [
        "!pip install scikeras"
      ]
    },
    {
      "cell_type": "code",
      "execution_count": null,
      "metadata": {
        "id": "BDW8Oc_7u0EP"
      },
      "outputs": [],
      "source": [
        "import tensorflow as tf\n",
        "from scikeras.wrappers import KerasRegressor\n"
      ]
    },
    {
      "cell_type": "code",
      "execution_count": null,
      "metadata": {
        "colab": {
          "base_uri": "https://localhost:8080/"
        },
        "id": "d2n0nz7Zu0EP",
        "outputId": "5df6a18a-2b08-4898-a6b3-a5b7aed0bb26"
      },
      "outputs": [],
      "source": [
        "def create_lstm_model(units=50, learning_rate=0.001):\n",
        "    model = Sequential()\n",
        "    model.add(LSTM(units, kernel_regularizer=regularizers.l2(learning_rate), input_shape=(sequence_length, 4)))\n",
        "    model.add(Dense(4))\n",
        "    model.compile(optimizer='adam', loss='mean_squared_error')\n",
        "    print(\"Creating model in function...\")\n",
        "    return model\n",
        "\n",
        "    \n",
        "# verbose = 0\n",
        "# Create the LSTM model\n",
        "lstm_model = KerasRegressor(model=create_lstm_model, learning_rate=0.001, units=50)\n",
        "# lstm_model = KerasRegressor(model=create_lstm_model)\n",
        "print(\"Created model!\")\n",
        "\n",
        "\n"
      ]
    },
    {
      "cell_type": "code",
      "execution_count": null,
      "metadata": {
        "colab": {
          "background_save": true,
          "base_uri": "https://localhost:8080/"
        },
        "id": "oqTJGNPcu0EP",
        "outputId": "b7d40720-ae31-4fce-a972-ac04bc6dd780"
      },
      "outputs": [],
      "source": [
        "# Specify hyperparameter values to search\n",
        "param_grid = {\n",
        "    'units': [50, 100],\n",
        "    'learning_rate': [0.001, 0.01],\n",
        "    # from the loss curve earlier, early stopping\n",
        "    # optimal number of epoch < 10, else overfit\n",
        "    'epochs': [5, 10],\n",
        "    'batch_size': [30, 50]\n",
        "}\n",
        "\n",
        "# Perform grid search\n",
        "grid_search = GridSearchCV(estimator=lstm_model, param_grid=param_grid, cv=2)\n",
        "print(\"Initialised GridSearchCV\")\n",
        "grid_search.fit(X_train, y_train)  # X_train and y_train are your training data\n",
        "\n",
        "# Get the best hyperparameters\n",
        "best_units = grid_search.best_params_['units']\n",
        "best_learning_rate = grid_search.best_params_['learning_rate']\n",
        "best_epochs = grid_search.best_params_['epochs']\n",
        "best_batch_size = grid_search.best_params_['batch_size']\n",
        "\n",
        "print(best_units, best_learning_rate, best_epochs, best_batch_size)"
      ]
    },
    {
      "cell_type": "code",
      "execution_count": null,
      "metadata": {
        "id": "0OFI03wju0EP"
      },
      "outputs": [],
      "source": [
        "# Train the final model with the best hyperparameters\n",
        "\n",
        "final_model = create_lstm_model(units=best_units, learning_rate=best_learning_rate)\n",
        "model.fit(X_train,y_train, epochs=best_epochs, batch_size=best_batch_size)"
      ]
    },
    {
      "cell_type": "code",
      "execution_count": null,
      "metadata": {
        "id": "xblUJSmqu0EP"
      },
      "outputs": [],
      "source": [
        "y_pred = model.predict(X_test)\n",
        "\n",
        "# only interested in daily returns\n",
        "y_test_slice = y_test[:,0] #MinMaxScaled\n",
        "y_pred_slice = y_pred[:,0] #MinMaxScaled\n",
        "\n",
        "# AAPL_test = sc.inverse_transform(AAPL_test)\n",
        "y_pred = sc.inverse_transform(y_pred)\n",
        "\n",
        "print(np.sqrt(mean_squared_error(y_test_slice, y_pred_slice)))\n",
        "\n",
        "y_pred"
      ]
    },
    {
      "cell_type": "code",
      "execution_count": null,
      "metadata": {
        "id": "tmOkwLNfu0EP"
      },
      "outputs": [],
      "source": [
        "import matplotlib.pyplot as plt\n",
        "\n",
        "# Create a range of indices for plotting\n",
        "indices = range(len(y_test_slice))\n",
        "\n",
        "# Plot the actual stock prices (in blue)\n",
        "plt.plot(indices, y_test_slice, label=\"Actual Stock Returns\", color='blue')\n",
        "\n",
        "# Plot the predicted stock prices (in red)\n",
        "plt.plot(indices, y_pred_slice, label=\"Predicted Stock Returns\", color='red')\n",
        "\n",
        "# Add labels and legend\n",
        "plt.xlabel(\"Time Step\")\n",
        "plt.ylabel(\"Stock Return\")\n",
        "plt.title(\"Actual vs. Predicted Stock Return\")\n",
        "plt.legend()\n",
        "\n",
        "# Show the plot\n",
        "plt.show()"
      ]
    }
  ],
  "metadata": {
    "colab": {
      "provenance": []
    },
    "kernelspec": {
      "display_name": "Python 3",
      "language": "python",
      "name": "python3"
    },
    "language_info": {
      "codemirror_mode": {
        "name": "ipython",
        "version": 3
      },
      "file_extension": ".py",
      "mimetype": "text/x-python",
      "name": "python",
      "nbconvert_exporter": "python",
      "pygments_lexer": "ipython3",
      "version": "3.11.4"
    }
  },
  "nbformat": 4,
  "nbformat_minor": 0
}
