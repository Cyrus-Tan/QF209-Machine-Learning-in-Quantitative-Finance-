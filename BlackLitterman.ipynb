{
 "cells": [
  {
   "cell_type": "markdown",
   "metadata": {},
   "source": [
    "# Creation of Black Litterman model\n",
    "\n",
    "note: PyPortfolioOpt package requires Python 3.9 and below due to qdldl dependencies in Python 3.11"
   ]
  },
  {
   "cell_type": "code",
   "execution_count": 1,
   "metadata": {},
   "outputs": [
    {
     "name": "stdout",
     "output_type": "stream",
     "text": [
      "Defaulting to user installation because normal site-packages is not writeable\n",
      "Requirement already satisfied: pandas in /Users/estherwee/Library/Python/3.9/lib/python/site-packages (2.1.2)\n",
      "Requirement already satisfied: numpy in /Users/estherwee/Library/Python/3.9/lib/python/site-packages (1.26.1)\n",
      "Requirement already satisfied: matplotlib in /Users/estherwee/Library/Python/3.9/lib/python/site-packages (3.8.1)\n",
      "Requirement already satisfied: yfinance in /Users/estherwee/Library/Python/3.9/lib/python/site-packages (0.2.31)\n",
      "Requirement already satisfied: PyPortfolioOpt in /Users/estherwee/Library/Python/3.9/lib/python/site-packages (1.5.5)\n",
      "Requirement already satisfied: python-dateutil>=2.8.2 in /Users/estherwee/Library/Python/3.9/lib/python/site-packages (from pandas) (2.8.2)\n",
      "Requirement already satisfied: pytz>=2020.1 in /Users/estherwee/Library/Python/3.9/lib/python/site-packages (from pandas) (2023.3.post1)\n",
      "Requirement already satisfied: tzdata>=2022.1 in /Users/estherwee/Library/Python/3.9/lib/python/site-packages (from pandas) (2023.3)\n",
      "Requirement already satisfied: packaging>=20.0 in /Users/estherwee/Library/Python/3.9/lib/python/site-packages (from matplotlib) (23.2)\n",
      "Requirement already satisfied: pillow>=8 in /Users/estherwee/Library/Python/3.9/lib/python/site-packages (from matplotlib) (10.1.0)\n",
      "Requirement already satisfied: pyparsing>=2.3.1 in /Users/estherwee/Library/Python/3.9/lib/python/site-packages (from matplotlib) (3.1.1)\n",
      "Requirement already satisfied: kiwisolver>=1.3.1 in /Users/estherwee/Library/Python/3.9/lib/python/site-packages (from matplotlib) (1.4.5)\n",
      "Requirement already satisfied: contourpy>=1.0.1 in /Users/estherwee/Library/Python/3.9/lib/python/site-packages (from matplotlib) (1.2.0)\n",
      "Requirement already satisfied: importlib-resources>=3.2.0 in /Users/estherwee/Library/Python/3.9/lib/python/site-packages (from matplotlib) (6.1.0)\n",
      "Requirement already satisfied: cycler>=0.10 in /Users/estherwee/Library/Python/3.9/lib/python/site-packages (from matplotlib) (0.12.1)\n",
      "Requirement already satisfied: fonttools>=4.22.0 in /Users/estherwee/Library/Python/3.9/lib/python/site-packages (from matplotlib) (4.44.0)\n",
      "Requirement already satisfied: beautifulsoup4>=4.11.1 in /Users/estherwee/Library/Python/3.9/lib/python/site-packages (from yfinance) (4.12.2)\n",
      "Requirement already satisfied: appdirs>=1.4.4 in /Users/estherwee/Library/Python/3.9/lib/python/site-packages (from yfinance) (1.4.4)\n",
      "Requirement already satisfied: html5lib>=1.1 in /Users/estherwee/Library/Python/3.9/lib/python/site-packages (from yfinance) (1.1)\n",
      "Requirement already satisfied: lxml>=4.9.1 in /Users/estherwee/Library/Python/3.9/lib/python/site-packages (from yfinance) (4.9.3)\n",
      "Requirement already satisfied: multitasking>=0.0.7 in /Users/estherwee/Library/Python/3.9/lib/python/site-packages (from yfinance) (0.0.11)\n",
      "Requirement already satisfied: requests>=2.31 in /Users/estherwee/Library/Python/3.9/lib/python/site-packages (from yfinance) (2.31.0)\n",
      "Requirement already satisfied: peewee>=3.16.2 in /Users/estherwee/Library/Python/3.9/lib/python/site-packages (from yfinance) (3.17.0)\n",
      "Requirement already satisfied: frozendict>=2.3.4 in /Users/estherwee/Library/Python/3.9/lib/python/site-packages (from yfinance) (2.3.8)\n",
      "Requirement already satisfied: cvxpy<2.0.0,>=1.1.19 in /Users/estherwee/Library/Python/3.9/lib/python/site-packages (from PyPortfolioOpt) (1.4.1)\n",
      "Requirement already satisfied: scipy<2.0,>=1.3 in /Users/estherwee/Library/Python/3.9/lib/python/site-packages (from PyPortfolioOpt) (1.11.3)\n",
      "Requirement already satisfied: soupsieve>1.2 in /Users/estherwee/Library/Python/3.9/lib/python/site-packages (from beautifulsoup4>=4.11.1->yfinance) (2.5)\n",
      "Requirement already satisfied: pybind11 in /Users/estherwee/Library/Python/3.9/lib/python/site-packages (from cvxpy<2.0.0,>=1.1.19->PyPortfolioOpt) (2.11.1)\n",
      "Requirement already satisfied: scs>=3.0 in /Users/estherwee/Library/Python/3.9/lib/python/site-packages (from cvxpy<2.0.0,>=1.1.19->PyPortfolioOpt) (3.2.3)\n",
      "Requirement already satisfied: clarabel>=0.5.0 in /Users/estherwee/Library/Python/3.9/lib/python/site-packages (from cvxpy<2.0.0,>=1.1.19->PyPortfolioOpt) (0.6.0)\n",
      "Requirement already satisfied: ecos>=2 in /Users/estherwee/Library/Python/3.9/lib/python/site-packages (from cvxpy<2.0.0,>=1.1.19->PyPortfolioOpt) (2.0.12)\n",
      "Requirement already satisfied: osqp>=0.6.2 in /Users/estherwee/Library/Python/3.9/lib/python/site-packages (from cvxpy<2.0.0,>=1.1.19->PyPortfolioOpt) (0.6.3)\n",
      "Requirement already satisfied: webencodings in /Users/estherwee/Library/Python/3.9/lib/python/site-packages (from html5lib>=1.1->yfinance) (0.5.1)\n",
      "Requirement already satisfied: six>=1.9 in /Library/Developer/CommandLineTools/Library/Frameworks/Python3.framework/Versions/3.9/lib/python3.9/site-packages (from html5lib>=1.1->yfinance) (1.15.0)\n",
      "Requirement already satisfied: zipp>=3.1.0 in /Users/estherwee/Library/Python/3.9/lib/python/site-packages (from importlib-resources>=3.2.0->matplotlib) (3.17.0)\n",
      "Requirement already satisfied: qdldl in /Users/estherwee/Library/Python/3.9/lib/python/site-packages (from osqp>=0.6.2->cvxpy<2.0.0,>=1.1.19->PyPortfolioOpt) (0.1.7.post0)\n",
      "Requirement already satisfied: urllib3<3,>=1.21.1 in /Users/estherwee/Library/Python/3.9/lib/python/site-packages (from requests>=2.31->yfinance) (2.0.7)\n",
      "Requirement already satisfied: charset-normalizer<4,>=2 in /Users/estherwee/Library/Python/3.9/lib/python/site-packages (from requests>=2.31->yfinance) (3.3.2)\n",
      "Requirement already satisfied: certifi>=2017.4.17 in /Users/estherwee/Library/Python/3.9/lib/python/site-packages (from requests>=2.31->yfinance) (2023.7.22)\n",
      "Requirement already satisfied: idna<4,>=2.5 in /Users/estherwee/Library/Python/3.9/lib/python/site-packages (from requests>=2.31->yfinance) (3.4)\n",
      "\u001b[33mWARNING: You are using pip version 21.2.4; however, version 23.3.1 is available.\n",
      "You should consider upgrading via the '/Library/Developer/CommandLineTools/usr/bin/python3 -m pip install --upgrade pip' command.\u001b[0m\n",
      "Defaulting to user installation because normal site-packages is not writeable\n",
      "Requirement already satisfied: pandas-datareader in /Users/estherwee/Library/Python/3.9/lib/python/site-packages (0.10.0)\n",
      "Requirement already satisfied: lxml in /Users/estherwee/Library/Python/3.9/lib/python/site-packages (from pandas-datareader) (4.9.3)\n",
      "Requirement already satisfied: requests>=2.19.0 in /Users/estherwee/Library/Python/3.9/lib/python/site-packages (from pandas-datareader) (2.31.0)\n",
      "Requirement already satisfied: pandas>=0.23 in /Users/estherwee/Library/Python/3.9/lib/python/site-packages (from pandas-datareader) (2.1.2)\n",
      "Requirement already satisfied: pytz>=2020.1 in /Users/estherwee/Library/Python/3.9/lib/python/site-packages (from pandas>=0.23->pandas-datareader) (2023.3.post1)\n",
      "Requirement already satisfied: numpy<2,>=1.22.4 in /Users/estherwee/Library/Python/3.9/lib/python/site-packages (from pandas>=0.23->pandas-datareader) (1.26.1)\n",
      "Requirement already satisfied: python-dateutil>=2.8.2 in /Users/estherwee/Library/Python/3.9/lib/python/site-packages (from pandas>=0.23->pandas-datareader) (2.8.2)\n",
      "Requirement already satisfied: tzdata>=2022.1 in /Users/estherwee/Library/Python/3.9/lib/python/site-packages (from pandas>=0.23->pandas-datareader) (2023.3)\n",
      "Requirement already satisfied: six>=1.5 in /Library/Developer/CommandLineTools/Library/Frameworks/Python3.framework/Versions/3.9/lib/python3.9/site-packages (from python-dateutil>=2.8.2->pandas>=0.23->pandas-datareader) (1.15.0)\n",
      "Requirement already satisfied: idna<4,>=2.5 in /Users/estherwee/Library/Python/3.9/lib/python/site-packages (from requests>=2.19.0->pandas-datareader) (3.4)\n",
      "Requirement already satisfied: charset-normalizer<4,>=2 in /Users/estherwee/Library/Python/3.9/lib/python/site-packages (from requests>=2.19.0->pandas-datareader) (3.3.2)\n",
      "Requirement already satisfied: certifi>=2017.4.17 in /Users/estherwee/Library/Python/3.9/lib/python/site-packages (from requests>=2.19.0->pandas-datareader) (2023.7.22)\n",
      "Requirement already satisfied: urllib3<3,>=1.21.1 in /Users/estherwee/Library/Python/3.9/lib/python/site-packages (from requests>=2.19.0->pandas-datareader) (2.0.7)\n",
      "\u001b[33mWARNING: You are using pip version 21.2.4; however, version 23.3.1 is available.\n",
      "You should consider upgrading via the '/Library/Developer/CommandLineTools/usr/bin/python3 -m pip install --upgrade pip' command.\u001b[0m\n"
     ]
    }
   ],
   "source": [
    "# install required packages\n",
    "# git clone: 3rd party PyPortfolioOpt package\n",
    "\n",
    "!pip3 install pandas numpy matplotlib yfinance PyPortfolioOpt\n",
    "!pip3 install pandas-datareader\n",
    "import os\n",
    "if not os.path.isdir('data'):\n",
    "    os.system('git clone https://github.com/robertmartin8/PyPortfolioOpt.git')\n",
    "    os.chdir('PyPortfolioOpt/cookbook')"
   ]
  },
  {
   "cell_type": "code",
   "execution_count": 2,
   "metadata": {},
   "outputs": [
    {
     "name": "stderr",
     "output_type": "stream",
     "text": [
      "/Users/estherwee/Library/Python/3.9/lib/python/site-packages/urllib3/__init__.py:34: NotOpenSSLWarning: urllib3 v2.0 only supports OpenSSL 1.1.1+, currently the 'ssl' module is compiled with 'LibreSSL 2.8.3'. See: https://github.com/urllib3/urllib3/issues/3020\n",
      "  warnings.warn(\n"
     ]
    }
   ],
   "source": [
    "import numpy as np\n",
    "import pandas as pd\n",
    "import matplotlib.pyplot as plt\n",
    "import matplotlib\n",
    "import yfinance as yf\n",
    "import pypfopt"
   ]
  },
  {
   "cell_type": "code",
   "execution_count": 3,
   "metadata": {},
   "outputs": [],
   "source": [
    "tickers = ['AAPL', 'NVDA', 'MAR', 'LMT', 'BA']\n",
    "\n",
    "# Historical data - define START, END dates\n",
    "start_date = '2010-03-31'\n",
    "end_date = '2023-10-20'"
   ]
  },
  {
   "cell_type": "code",
   "execution_count": 4,
   "metadata": {},
   "outputs": [],
   "source": [
    "merged = pd.read_excel(\"merged.xlsx\", index_col=0)\n",
    "pred = pd.read_excel(\"predictions.xlsx\", index_col=0)\n",
    "\n",
    "# stock price cannot be negative\n",
    "pred.mask(pred < 0, 0, inplace=True)"
   ]
  },
  {
   "cell_type": "code",
   "execution_count": 5,
   "metadata": {},
   "outputs": [],
   "source": [
    "# truncate first 60 rows, insufficent data to predict\n",
    "\n",
    "pred = pred[60:]\n",
    "merged = merged[60:]"
   ]
  },
  {
   "cell_type": "code",
   "execution_count": 6,
   "metadata": {},
   "outputs": [],
   "source": [
    "# set index of predicted adj close to date\n",
    "DateList = merged.index.to_list()\n",
    "pred[\"Date\"] = DateList\n",
    "pred.set_index(\"Date\", inplace = True)\n",
    "\n",
    "# drop '2010-05-19' (Saturday): non-trading day\n",
    "pred = pred.drop('2010-05-19')\n",
    "merged = merged.drop('2010-05-19')"
   ]
  },
  {
   "cell_type": "code",
   "execution_count": 7,
   "metadata": {},
   "outputs": [],
   "source": [
    "stockList = []\n",
    "for stock in tickers:\n",
    "    stockList.append(f\"{stock}_Adj Close\")\n",
    "\n",
    "prices = merged[stockList]\n",
    "prices.columns = prices.columns.str.replace(\"_Adj Close\", \"\")\n"
   ]
  },
  {
   "cell_type": "code",
   "execution_count": 8,
   "metadata": {},
   "outputs": [
    {
     "name": "stdout",
     "output_type": "stream",
     "text": [
      "[*********************100%%**********************]  1 of 1 completed\n"
     ]
    },
    {
     "data": {
      "text/plain": [
       "Date\n",
       "2010-03-31     90.688110\n",
       "2010-04-01     91.308205\n",
       "2010-04-05     92.052338\n",
       "2010-04-06     92.269356\n",
       "2010-04-07     91.742271\n",
       "                 ...    \n",
       "2023-10-13    431.500000\n",
       "2023-10-16    436.040009\n",
       "2023-10-17    436.019989\n",
       "2023-10-18    430.209991\n",
       "2023-10-19    426.429993\n",
       "Name: Adj Close, Length: 3413, dtype: float64"
      ]
     },
     "execution_count": 8,
     "metadata": {},
     "output_type": "execute_result"
    }
   ],
   "source": [
    "#SP500 ETF Benchmark\n",
    "market_prices = yf.download(\"SPY\", start=start_date, end=end_date)[\"Adj Close\"]\n",
    "market_prices"
   ]
  },
  {
   "cell_type": "code",
   "execution_count": 9,
   "metadata": {},
   "outputs": [],
   "source": [
    "# mcaps = {}\n",
    "# for t in tickers:\n",
    "#     stock = yf.Ticker(t)\n",
    "#     mcaps[t] = stock.info[\"marketCap\"]\n",
    "# mcaps\n",
    "\n",
    "# this should return a dictionary of marketcaps of our 5 stocks\n",
    "# however, YFinance returned error 404 due to technical issues\n",
    "# hence, we will manually pull the market cap from yfinance\n",
    "\n",
    "# tickers = ['AAPL', 'NVDA', 'MAR', 'LMT', 'BA']\n",
    "\n",
    "mcaps = {\n",
    "    'AAPL': 2.76 * 1000000000000,\n",
    "    'NVDA': 1.112 * 1000000000000,\n",
    "    'MAR': 57.053 * 1000000000,\n",
    "    'LMT': 113.639 * 1000000000,\n",
    "    'BA': 118.001 * 1000000000\n",
    "}"
   ]
  },
  {
   "cell_type": "code",
   "execution_count": 10,
   "metadata": {},
   "outputs": [
    {
     "data": {
      "text/plain": [
       "3.6020678699989643"
      ]
     },
     "execution_count": 10,
     "metadata": {},
     "output_type": "execute_result"
    }
   ],
   "source": [
    "from pypfopt import black_litterman, risk_models\n",
    "from pypfopt import BlackLittermanModel\n",
    "\n",
    "S = risk_models.CovarianceShrinkage(prices).ledoit_wolf()\n",
    "delta = black_litterman.market_implied_risk_aversion(market_prices)\n",
    "delta\n",
    "     "
   ]
  },
  {
   "cell_type": "code",
   "execution_count": 11,
   "metadata": {},
   "outputs": [
    {
     "data": {
      "text/plain": [
       "AAPL    0.428225\n",
       "NVDA    0.446357\n",
       "MAR     0.233701\n",
       "LMT     0.153651\n",
       "BA      0.371138\n",
       "dtype: float64"
      ]
     },
     "execution_count": 11,
     "metadata": {},
     "output_type": "execute_result"
    }
   ],
   "source": [
    "# inital expected returns not affected by market sentiment\n",
    "market_prior = black_litterman.market_implied_prior_returns(mcaps, delta, S)\n",
    "market_prior"
   ]
  },
  {
   "cell_type": "code",
   "execution_count": 12,
   "metadata": {},
   "outputs": [
    {
     "data": {
      "image/png": "[encoded data removed]",
      "text/plain": [
       "<Figure size 1000x500 with 1 Axes>"
      ]
     },
     "metadata": {},
     "output_type": "display_data"
    }
   ],
   "source": [
    "market_prior.plot.barh(figsize=(10,5));"
   ]
  },
  {
   "cell_type": "code",
   "execution_count": 13,
   "metadata": {},
   "outputs": [],
   "source": [
    "tickers = ['AAPL', 'NVDA', 'MAR', 'LMT', 'BA']\n",
    "\n",
    "# create a dictionary of magnitude of views and map to relevant stock\n",
    "confidence = []\n",
    "for ticker in tickers:\n",
    "    confidencel_level = (pred[f'{ticker}'].iloc[-1] - prices[f'{ticker}'].iloc[-1])/ prices[f'{ticker}'].iloc[-1]\n",
    "    confidence.append(confidencel_level)\n",
    "\n",
    "viewdict = {}\n",
    "for i in range(5):\n",
    "    viewdict[tickers[i]] = confidence[i]\n",
    "\n",
    "bl = BlackLittermanModel(S, pi=market_prior, absolute_views=viewdict)"
   ]
  },
  {
   "cell_type": "code",
   "execution_count": 14,
   "metadata": {},
   "outputs": [
    {
     "data": {
      "image/png": "[encoded data removed]",
      "text/plain": [
       "<Figure size 700x700 with 1 Axes>"
      ]
     },
     "metadata": {},
     "output_type": "display_data"
    }
   ],
   "source": [
    "fig, ax = plt.subplots(figsize=(7,7))\n",
    "im = ax.imshow(bl.omega)\n",
    "\n",
    "ax.set_xticks(np.arange(len(bl.tickers)))\n",
    "ax.set_yticks(np.arange(len(bl.tickers)))\n",
    "\n",
    "ax.set_xticklabels(bl.tickers)\n",
    "ax.set_yticklabels(bl.tickers)\n",
    "plt.show()"
   ]
  },
  {
   "cell_type": "code",
   "execution_count": 15,
   "metadata": {},
   "outputs": [],
   "source": [
    "# set omega to uncertainty matrix\n",
    "omega = bl.omega"
   ]
  },
  {
   "cell_type": "code",
   "execution_count": 16,
   "metadata": {},
   "outputs": [],
   "source": [
    "# compute market-implied prior\n",
    "bl = BlackLittermanModel(S, pi=\"market\", market_caps=mcaps, risk_aversion=delta, absolute_views=viewdict, omega=omega)"
   ]
  },
  {
   "cell_type": "code",
   "execution_count": 17,
   "metadata": {},
   "outputs": [
    {
     "data": {
      "text/plain": [
       "AAPL    0.141905\n",
       "NVDA    0.117765\n",
       "MAR     0.009882\n",
       "LMT     0.002511\n",
       "BA      0.050018\n",
       "dtype: float64"
      ]
     },
     "execution_count": 17,
     "metadata": {},
     "output_type": "execute_result"
    }
   ],
   "source": [
    "# Posterior estimate of returns\n",
    "ret_bl = bl.bl_returns()\n",
    "ret_bl"
   ]
  },
  {
   "cell_type": "code",
   "execution_count": 18,
   "metadata": {},
   "outputs": [
    {
     "data": {
      "text/html": [
       "<div>\n",
       "<style scoped>\n",
       "    .dataframe tbody tr th:only-of-type {\n",
       "        vertical-align: middle;\n",
       "    }\n",
       "\n",
       "    .dataframe tbody tr th {\n",
       "        vertical-align: top;\n",
       "    }\n",
       "\n",
       "    .dataframe thead th {\n",
       "        text-align: right;\n",
       "    }\n",
       "</style>\n",
       "<table border=\"1\" class=\"dataframe\">\n",
       "  <thead>\n",
       "    <tr style=\"text-align: right;\">\n",
       "      <th></th>\n",
       "      <th>Prior</th>\n",
       "      <th>Posterior</th>\n",
       "      <th>Views</th>\n",
       "    </tr>\n",
       "  </thead>\n",
       "  <tbody>\n",
       "    <tr>\n",
       "      <th>AAPL</th>\n",
       "      <td>0.428225</td>\n",
       "      <td>0.141905</td>\n",
       "      <td>-0.027481</td>\n",
       "    </tr>\n",
       "    <tr>\n",
       "      <th>NVDA</th>\n",
       "      <td>0.446357</td>\n",
       "      <td>0.117765</td>\n",
       "      <td>-0.029242</td>\n",
       "    </tr>\n",
       "    <tr>\n",
       "      <th>MAR</th>\n",
       "      <td>0.233701</td>\n",
       "      <td>0.009882</td>\n",
       "      <td>-0.049147</td>\n",
       "    </tr>\n",
       "    <tr>\n",
       "      <th>LMT</th>\n",
       "      <td>0.153651</td>\n",
       "      <td>0.002511</td>\n",
       "      <td>-0.036197</td>\n",
       "    </tr>\n",
       "    <tr>\n",
       "      <th>BA</th>\n",
       "      <td>0.371138</td>\n",
       "      <td>0.050018</td>\n",
       "      <td>-0.006733</td>\n",
       "    </tr>\n",
       "  </tbody>\n",
       "</table>\n",
       "</div>"
      ],
      "text/plain": [
       "         Prior  Posterior     Views\n",
       "AAPL  0.428225   0.141905 -0.027481\n",
       "NVDA  0.446357   0.117765 -0.029242\n",
       "MAR   0.233701   0.009882 -0.049147\n",
       "LMT   0.153651   0.002511 -0.036197\n",
       "BA    0.371138   0.050018 -0.006733"
      ]
     },
     "execution_count": 18,
     "metadata": {},
     "output_type": "execute_result"
    }
   ],
   "source": [
    "rets_df = pd.DataFrame([market_prior, ret_bl, pd.Series(viewdict)], \n",
    "             index=[\"Prior\", \"Posterior\", \"Views\"]).T\n",
    "rets_df"
   ]
  },
  {
   "cell_type": "code",
   "execution_count": 19,
   "metadata": {},
   "outputs": [
    {
     "data": {
      "image/png": "[encoded data removed]",
      "text/plain": [
       "<Figure size 1200x800 with 1 Axes>"
      ]
     },
     "metadata": {},
     "output_type": "display_data"
    }
   ],
   "source": [
    "rets_df.plot.bar(figsize=(12,8));"
   ]
  },
  {
   "cell_type": "code",
   "execution_count": 20,
   "metadata": {},
   "outputs": [
    {
     "data": {
      "text/html": [
       "<div>\n",
       "<style scoped>\n",
       "    .dataframe tbody tr th:only-of-type {\n",
       "        vertical-align: middle;\n",
       "    }\n",
       "\n",
       "    .dataframe tbody tr th {\n",
       "        vertical-align: top;\n",
       "    }\n",
       "\n",
       "    .dataframe thead th {\n",
       "        text-align: right;\n",
       "    }\n",
       "</style>\n",
       "<table border=\"1\" class=\"dataframe\">\n",
       "  <thead>\n",
       "    <tr style=\"text-align: right;\">\n",
       "      <th></th>\n",
       "      <th>AAPL</th>\n",
       "      <th>NVDA</th>\n",
       "      <th>MAR</th>\n",
       "      <th>LMT</th>\n",
       "      <th>BA</th>\n",
       "    </tr>\n",
       "  </thead>\n",
       "  <tbody>\n",
       "    <tr>\n",
       "      <th>AAPL</th>\n",
       "      <td>0.137411</td>\n",
       "      <td>0.076308</td>\n",
       "      <td>0.051903</td>\n",
       "      <td>0.032467</td>\n",
       "      <td>0.085322</td>\n",
       "    </tr>\n",
       "    <tr>\n",
       "      <th>NVDA</th>\n",
       "      <td>0.076308</td>\n",
       "      <td>0.240861</td>\n",
       "      <td>0.072095</td>\n",
       "      <td>0.040289</td>\n",
       "      <td>0.113918</td>\n",
       "    </tr>\n",
       "    <tr>\n",
       "      <th>MAR</th>\n",
       "      <td>0.051903</td>\n",
       "      <td>0.072095</td>\n",
       "      <td>0.155382</td>\n",
       "      <td>0.035055</td>\n",
       "      <td>0.107813</td>\n",
       "    </tr>\n",
       "    <tr>\n",
       "      <th>LMT</th>\n",
       "      <td>0.032467</td>\n",
       "      <td>0.040289</td>\n",
       "      <td>0.035055</td>\n",
       "      <td>0.100741</td>\n",
       "      <td>0.066549</td>\n",
       "    </tr>\n",
       "    <tr>\n",
       "      <th>BA</th>\n",
       "      <td>0.085322</td>\n",
       "      <td>0.113918</td>\n",
       "      <td>0.107813</td>\n",
       "      <td>0.066549</td>\n",
       "      <td>0.286345</td>\n",
       "    </tr>\n",
       "  </tbody>\n",
       "</table>\n",
       "</div>"
      ],
      "text/plain": [
       "          AAPL      NVDA       MAR       LMT        BA\n",
       "AAPL  0.137411  0.076308  0.051903  0.032467  0.085322\n",
       "NVDA  0.076308  0.240861  0.072095  0.040289  0.113918\n",
       "MAR   0.051903  0.072095  0.155382  0.035055  0.107813\n",
       "LMT   0.032467  0.040289  0.035055  0.100741  0.066549\n",
       "BA    0.085322  0.113918  0.107813  0.066549  0.286345"
      ]
     },
     "execution_count": 20,
     "metadata": {},
     "output_type": "execute_result"
    }
   ],
   "source": [
    "S_bl = bl.bl_cov()\n",
    "S_bl"
   ]
  },
  {
   "cell_type": "code",
   "execution_count": 21,
   "metadata": {},
   "outputs": [
    {
     "name": "stderr",
     "output_type": "stream",
     "text": [
      "/Users/estherwee/Library/Python/3.9/lib/python/site-packages/pypfopt/efficient_frontier/efficient_frontier.py:259: UserWarning: max_sharpe transforms the optimization problem so additional objectives may not work as expected.\n",
      "  warnings.warn(\n"
     ]
    },
    {
     "data": {
      "text/plain": [
       "OrderedDict([('AAPL', 0.5538309056520455),\n",
       "             ('NVDA', 0.3902666329520738),\n",
       "             ('MAR', 0.0),\n",
       "             ('LMT', 0.0),\n",
       "             ('BA', 0.0559024613958807)])"
      ]
     },
     "execution_count": 21,
     "metadata": {},
     "output_type": "execute_result"
    }
   ],
   "source": [
    "from pypfopt import EfficientFrontier, objective_functions\n",
    "\n",
    "ef = EfficientFrontier(ret_bl, S_bl)\n",
    "ef.add_objective(objective_functions.L2_reg)\n",
    "ef.max_sharpe()"
   ]
  },
  {
   "cell_type": "code",
   "execution_count": 22,
   "metadata": {},
   "outputs": [
    {
     "data": {
      "text/plain": [
       "OrderedDict([('AAPL', 0.55383),\n",
       "             ('NVDA', 0.39027),\n",
       "             ('MAR', 0.0),\n",
       "             ('LMT', 0.0),\n",
       "             ('BA', 0.0559)])"
      ]
     },
     "execution_count": 22,
     "metadata": {},
     "output_type": "execute_result"
    }
   ],
   "source": [
    "weights = ef.clean_weights()\n",
    "weights\n"
   ]
  },
  {
   "cell_type": "code",
   "execution_count": 23,
   "metadata": {},
   "outputs": [
    {
     "data": {
      "image/png": "[encoded data removed]",
      "text/plain": [
       "<Figure size 500x500 with 1 Axes>"
      ]
     },
     "metadata": {},
     "output_type": "display_data"
    }
   ],
   "source": [
    "pd.Series(weights).plot.pie(figsize=(5,5));"
   ]
  },
  {
   "cell_type": "markdown",
   "metadata": {},
   "source": [
    "# Calculating Sharpe Ratio"
   ]
  },
  {
   "cell_type": "code",
   "execution_count": 24,
   "metadata": {},
   "outputs": [],
   "source": [
    "# S_bl: cov matrix\n",
    "weights_numpy = np.array(\n",
    "     [[ 0.55383],\n",
    "      [ 0.39027],\n",
    "      [ 0],\n",
    "      [ 0],\n",
    "      [ 0.0559]])"
   ]
  },
  {
   "cell_type": "code",
   "execution_count": 25,
   "metadata": {},
   "outputs": [
    {
     "data": {
      "text/plain": [
       "0.12296851371542356"
      ]
     },
     "execution_count": 25,
     "metadata": {},
     "output_type": "execute_result"
    }
   ],
   "source": [
    "portfolio_risk = np.dot(weights_numpy.T,np.dot(S_bl,weights_numpy))[0][0]\n",
    "\n",
    "portfolio_risk"
   ]
  },
  {
   "cell_type": "code",
   "execution_count": 26,
   "metadata": {},
   "outputs": [],
   "source": [
    "ret = ret_bl.tolist()\n",
    "# value = 1\n",
    "# ret = [i + value for i in ret]\n",
    "\n",
    "weights = list(weights.items())\n",
    "\n",
    "weightsList = []\n",
    "for weight in weights:\n",
    "    stock, returns = weight\n",
    "    weightsList.append(returns)\n",
    "\n",
    "result = [a * b for a, b in zip(ret, weightsList)]\n",
    "portfolio_return = sum(result)\n",
    "\n",
    "# risk free rate: 2023-10-19 \n",
    "risk_free_rate = 0.0498\n"
   ]
  },
  {
   "cell_type": "code",
   "execution_count": 27,
   "metadata": {},
   "outputs": [
    {
     "data": {
      "text/plain": [
       "0.1273475051243113"
      ]
     },
     "execution_count": 27,
     "metadata": {},
     "output_type": "execute_result"
    }
   ],
   "source": [
    "portfolio_return"
   ]
  },
  {
   "cell_type": "code",
   "execution_count": 28,
   "metadata": {},
   "outputs": [
    {
     "name": "stdout",
     "output_type": "stream",
     "text": [
      "0.6306289535528864\n"
     ]
    }
   ],
   "source": [
    "sharpe_ratio = (portfolio_return - risk_free_rate)/portfolio_risk\n",
    "print(sharpe_ratio)\n",
    "\n",
    "# portfolio_risk"
   ]
  }
 ],
 "metadata": {
  "kernelspec": {
   "display_name": "Python 3",
   "language": "python",
   "name": "python3"
  },
  "language_info": {
   "codemirror_mode": {
    "name": "ipython",
    "version": 3
   },
   "file_extension": ".py",
   "mimetype": "text/x-python",
   "name": "python",
   "nbconvert_exporter": "python",
   "pygments_lexer": "ipython3",
   "version": "3.9.6"
  }
 },
 "nbformat": 4,
 "nbformat_minor": 2
}
