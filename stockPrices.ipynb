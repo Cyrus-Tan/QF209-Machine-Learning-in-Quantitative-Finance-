{
 "cells": [
  {
   "cell_type": "code",
   "execution_count": 11,
   "metadata": {},
   "outputs": [
    {
     "name": "stdout",
     "output_type": "stream",
     "text": [
      "2020-1-30\n"
     ]
    }
   ],
   "source": [
    "from time import strptime\n",
    "\n",
    "f = \"Data/APPL_transcripts/2020-Jan-29-AAPL.OQ-137948852907-Transcript.txt\"\n",
    "slash_split = f.split(\"/\")\n",
    "last_element = slash_split[-1] \n",
    "date_list = last_element.split(\"-\")\n",
    "date = date_list[:3]\n",
    "# print(date)\n",
    "\n",
    "from datetime import datetime\n",
    "mname = date_list[1]\n",
    "mnum = datetime.strptime(mname, '%b').month\n",
    "\n",
    "date = [date_list[0], str(mnum), date_list[2]]\n",
    "date = \"-\".join(date)\n",
    "future_day = int(date_list[2]) + 1\n",
    "future_date = [date_list[0], str(mnum), str(future_day)]\n",
    "future_date = \"-\".join(future_date)\n",
    "print(future_date)\n",
    "\n",
    "ticker = date_list[3].split(\".\")[0]"
   ]
  },
  {
   "cell_type": "code",
   "execution_count": 12,
   "metadata": {},
   "outputs": [
    {
     "name": "stdout",
     "output_type": "stream",
     "text": [
      "[*********************100%%**********************]  1 of 1 completed\n",
      "Date\n",
      "2020-01-29    79.099663\n",
      "Name: Adj Close, dtype: float64\n"
     ]
    }
   ],
   "source": [
    "# Import the yfinance. If you get module not found error the run !pip install yfinance from your Jupyter notebook\n",
    "import yfinance as yf\n",
    "tickers_list = [ticker]\n",
    "\n",
    "# Get the data for the tickers_list\n",
    "import yfinance as yf\n",
    "data = yf.download(tickers_list, date, future_date)['Adj Close']\n",
    "\n",
    "# Print first 5 rows of the data\n",
    "print(data)"
   ]
  }
 ],
 "metadata": {
  "kernelspec": {
   "display_name": "Python 3",
   "language": "python",
   "name": "python3"
  },
  "language_info": {
   "codemirror_mode": {
    "name": "ipython",
    "version": 3
   },
   "file_extension": ".py",
   "mimetype": "text/x-python",
   "name": "python",
   "nbconvert_exporter": "python",
   "pygments_lexer": "ipython3",
   "version": "3.11.4"
  },
  "orig_nbformat": 4
 },
 "nbformat": 4,
 "nbformat_minor": 2
}
